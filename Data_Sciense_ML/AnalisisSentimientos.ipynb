{
 "cells": [
  {
   "attachments": {},
   "cell_type": "markdown",
   "metadata": {},
   "source": [
    "## ANÁLISIS PREDICTIVO DE SENTIMIENTOS DE TWITTER PARA BITCOIN"
   ]
  },
  {
   "attachments": {},
   "cell_type": "markdown",
   "metadata": {},
   "source": [
    "## Limpieza de la base de datos"
   ]
  },
  {
   "attachments": {},
   "cell_type": "markdown",
   "metadata": {},
   "source": [
    " 1. Importar las librerías para poder importar la data"
   ]
  },
  {
   "cell_type": "code",
   "execution_count": 2,
   "metadata": {},
   "outputs": [],
   "source": [
    "import pandas as pd\n",
    "import numpy as np"
   ]
  },
  {
   "attachments": {},
   "cell_type": "markdown",
   "metadata": {},
   "source": [
    "2. Importar la data"
   ]
  },
  {
   "cell_type": "code",
   "execution_count": 3,
   "metadata": {},
   "outputs": [],
   "source": [
    "## La data se enuentra en archivo tipo \".csv\" y está separado mediante comas.\n",
    "data = pd.read_csv('tweets.csv',sep=',')"
   ]
  },
  {
   "attachments": {},
   "cell_type": "markdown",
   "metadata": {},
   "source": [
    "3. Visualizar la data para escoger los campos con los que se va a trabajar"
   ]
  },
  {
   "cell_type": "code",
   "execution_count": 4,
   "metadata": {},
   "outputs": [
    {
     "data": {
      "text/html": [
       "<div>\n",
       "<style scoped>\n",
       "    .dataframe tbody tr th:only-of-type {\n",
       "        vertical-align: middle;\n",
       "    }\n",
       "\n",
       "    .dataframe tbody tr th {\n",
       "        vertical-align: top;\n",
       "    }\n",
       "\n",
       "    .dataframe thead th {\n",
       "        text-align: right;\n",
       "    }\n",
       "</style>\n",
       "<table border=\"1\" class=\"dataframe\">\n",
       "  <thead>\n",
       "    <tr style=\"text-align: right;\">\n",
       "      <th></th>\n",
       "      <th>tweet_id</th>\n",
       "      <th>timestamp</th>\n",
       "      <th>user_id</th>\n",
       "      <th>screen_name</th>\n",
       "      <th>full_name</th>\n",
       "      <th>text</th>\n",
       "      <th>hashtags</th>\n",
       "      <th>mentions</th>\n",
       "      <th>retweet_count</th>\n",
       "      <th>retweet_user</th>\n",
       "      <th>favorite_count</th>\n",
       "      <th>tweet_sentiment</th>\n",
       "    </tr>\n",
       "  </thead>\n",
       "  <tbody>\n",
       "    <tr>\n",
       "      <th>2268</th>\n",
       "      <td>1657547117714391041</td>\n",
       "      <td>2023-05-14 00:43:23+00:00</td>\n",
       "      <td>805160271388049408</td>\n",
       "      <td>NEEDcreations</td>\n",
       "      <td>🧡NEEDcreations is stacking sats &amp; jamming to EDM</td>\n",
       "      <td>@luke_broyles @cjasonmaier @gwhoffmeister @BTC...</td>\n",
       "      <td>[]</td>\n",
       "      <td>['luke_broyles', 'cjasonmaier', 'gwhoffmeister...</td>\n",
       "      <td>0</td>\n",
       "      <td>[]</td>\n",
       "      <td>2</td>\n",
       "      <td>NaN</td>\n",
       "    </tr>\n",
       "    <tr>\n",
       "      <th>423</th>\n",
       "      <td>1657530379916517376</td>\n",
       "      <td>2023-05-13 23:36:52+00:00</td>\n",
       "      <td>1258165309460090883</td>\n",
       "      <td>TodaywithHannah</td>\n",
       "      <td>Hannah Anderson 🇺🇸 🌎</td>\n",
       "      <td>@latimes I'm willing to show 10 lucky people o...</td>\n",
       "      <td>[]</td>\n",
       "      <td>['latimes']</td>\n",
       "      <td>0</td>\n",
       "      <td>[]</td>\n",
       "      <td>0</td>\n",
       "      <td>NaN</td>\n",
       "    </tr>\n",
       "    <tr>\n",
       "      <th>2321</th>\n",
       "      <td>1657547568492994560</td>\n",
       "      <td>2023-05-14 00:45:10+00:00</td>\n",
       "      <td>1664372940</td>\n",
       "      <td>adiksayo1122</td>\n",
       "      <td>Crypto Insider</td>\n",
       "      <td>💰💸 Over $5M+ has been paid to loyal $HODL inve...</td>\n",
       "      <td>['HODL', 'coinbase', 'BTC']</td>\n",
       "      <td>['HODL_Official']</td>\n",
       "      <td>0</td>\n",
       "      <td>[]</td>\n",
       "      <td>0</td>\n",
       "      <td>NaN</td>\n",
       "    </tr>\n",
       "    <tr>\n",
       "      <th>3004</th>\n",
       "      <td>1657554401073016832</td>\n",
       "      <td>2023-05-14 01:12:19+00:00</td>\n",
       "      <td>131736177</td>\n",
       "      <td>LilFurbby</td>\n",
       "      <td>Cammykakez</td>\n",
       "      <td>👇Just claimed $GPEPE, thanks for the heads up....</td>\n",
       "      <td>['PEPE']</td>\n",
       "      <td>[]</td>\n",
       "      <td>0</td>\n",
       "      <td>[]</td>\n",
       "      <td>0</td>\n",
       "      <td>NaN</td>\n",
       "    </tr>\n",
       "    <tr>\n",
       "      <th>7111</th>\n",
       "      <td>1657600637394190342</td>\n",
       "      <td>2023-05-14 04:16:03+00:00</td>\n",
       "      <td>1489536502371598338</td>\n",
       "      <td>AltpartyIO</td>\n",
       "      <td>AltParty.io</td>\n",
       "      <td>Top 5 #altcoins that outperformed $BTC on the ...</td>\n",
       "      <td>['altcoins', 'altparty', 'DYOR']</td>\n",
       "      <td>[]</td>\n",
       "      <td>0</td>\n",
       "      <td>[]</td>\n",
       "      <td>0</td>\n",
       "      <td>NaN</td>\n",
       "    </tr>\n",
       "  </tbody>\n",
       "</table>\n",
       "</div>"
      ],
      "text/plain": [
       "                 tweet_id                  timestamp              user_id   \n",
       "2268  1657547117714391041  2023-05-14 00:43:23+00:00   805160271388049408  \\\n",
       "423   1657530379916517376  2023-05-13 23:36:52+00:00  1258165309460090883   \n",
       "2321  1657547568492994560  2023-05-14 00:45:10+00:00           1664372940   \n",
       "3004  1657554401073016832  2023-05-14 01:12:19+00:00            131736177   \n",
       "7111  1657600637394190342  2023-05-14 04:16:03+00:00  1489536502371598338   \n",
       "\n",
       "          screen_name                                         full_name   \n",
       "2268    NEEDcreations  🧡NEEDcreations is stacking sats & jamming to EDM  \\\n",
       "423   TodaywithHannah                              Hannah Anderson 🇺🇸 🌎   \n",
       "2321     adiksayo1122                                    Crypto Insider   \n",
       "3004        LilFurbby                                        Cammykakez   \n",
       "7111       AltpartyIO                                       AltParty.io   \n",
       "\n",
       "                                                   text   \n",
       "2268  @luke_broyles @cjasonmaier @gwhoffmeister @BTC...  \\\n",
       "423   @latimes I'm willing to show 10 lucky people o...   \n",
       "2321  💰💸 Over $5M+ has been paid to loyal $HODL inve...   \n",
       "3004  👇Just claimed $GPEPE, thanks for the heads up....   \n",
       "7111  Top 5 #altcoins that outperformed $BTC on the ...   \n",
       "\n",
       "                              hashtags   \n",
       "2268                                []  \\\n",
       "423                                 []   \n",
       "2321       ['HODL', 'coinbase', 'BTC']   \n",
       "3004                          ['PEPE']   \n",
       "7111  ['altcoins', 'altparty', 'DYOR']   \n",
       "\n",
       "                                               mentions  retweet_count   \n",
       "2268  ['luke_broyles', 'cjasonmaier', 'gwhoffmeister...              0  \\\n",
       "423                                         ['latimes']              0   \n",
       "2321                                  ['HODL_Official']              0   \n",
       "3004                                                 []              0   \n",
       "7111                                                 []              0   \n",
       "\n",
       "     retweet_user  favorite_count  tweet_sentiment  \n",
       "2268           []               2              NaN  \n",
       "423            []               0              NaN  \n",
       "2321           []               0              NaN  \n",
       "3004           []               0              NaN  \n",
       "7111           []               0              NaN  "
      ]
     },
     "execution_count": 4,
     "metadata": {},
     "output_type": "execute_result"
    }
   ],
   "source": [
    "# Se utiliza sample para ver 5 datos aleatorios de la data.\n",
    "data.sample(5)"
   ]
  },
  {
   "cell_type": "code",
   "execution_count": 5,
   "metadata": {},
   "outputs": [
    {
     "name": "stdout",
     "output_type": "stream",
     "text": [
      "<class 'pandas.core.frame.DataFrame'>\n",
      "RangeIndex: 10041 entries, 0 to 10040\n",
      "Data columns (total 12 columns):\n",
      " #   Column           Non-Null Count  Dtype  \n",
      "---  ------           --------------  -----  \n",
      " 0   tweet_id         10041 non-null  int64  \n",
      " 1   timestamp        10041 non-null  object \n",
      " 2   user_id          10041 non-null  int64  \n",
      " 3   screen_name      10041 non-null  object \n",
      " 4   full_name        10041 non-null  object \n",
      " 5   text             10041 non-null  object \n",
      " 6   hashtags         10041 non-null  object \n",
      " 7   mentions         10041 non-null  object \n",
      " 8   retweet_count    10041 non-null  int64  \n",
      " 9   retweet_user     10041 non-null  object \n",
      " 10  favorite_count   10041 non-null  int64  \n",
      " 11  tweet_sentiment  0 non-null      float64\n",
      "dtypes: float64(1), int64(4), object(7)\n",
      "memory usage: 941.5+ KB\n"
     ]
    }
   ],
   "source": [
    "# Se usa .info para saber los tipos de datos y si hay nulos.\n",
    "data.info()\n",
    "# No hay nulos en el data frame \"data\""
   ]
  },
  {
   "attachments": {},
   "cell_type": "markdown",
   "metadata": {},
   "source": [
    "\t\n",
    "4.Se utilizará la columna 'text' para analizar y predecir si el resultado podría ser positivo o negativo. \n",
    "\n",
    "La columna 'text' tiene palabras en otros idiomas, pero se utilizarán los que están en el idioma español e inglés.\n",
    "\n",
    "Para eliminar palabras que no sean español o inglés de una base de datos en Python, se utilizará la biblioteca langdetect.\n",
    "\n",
    "Esta biblioteca permite detectar automáticamente el idioma de un texto dado."
   ]
  },
  {
   "cell_type": "code",
   "execution_count": 6,
   "metadata": {},
   "outputs": [],
   "source": [
    "#Se instala la librería langdetect con pip install.\n",
    "# pip install langdetect"
   ]
  },
  {
   "attachments": {},
   "cell_type": "markdown",
   "metadata": {},
   "source": [
    "5. Se importa la función 'detect' desde la biblioteca langdetect para detectar el idioma deseado de un texto."
   ]
  },
  {
   "cell_type": "code",
   "execution_count": 7,
   "metadata": {},
   "outputs": [],
   "source": [
    "from langdetect import detect"
   ]
  },
  {
   "attachments": {},
   "cell_type": "markdown",
   "metadata": {},
   "source": [
    "6. Se realiza una función para detectar las palabras en español e inglés  y que eliminen las que no."
   ]
  },
  {
   "cell_type": "code",
   "execution_count": 8,
   "metadata": {},
   "outputs": [],
   "source": [
    "\n",
    "def es_ingles_o_espanol(palabra): # Toma como parámetro una palabra y devuelve un valor booleano (V o F) sabiendo si es palabra en español e inglés.\n",
    "    if not palabra:\n",
    "        return False # Si la palabra está vacía o nula devuelve 'False'.\n",
    "    try:\n",
    "        idioma = detect(palabra)\n",
    "        return idioma == 'es' or idioma == 'en' # Si el idioma es español e inglés devuelve 'True'.\n",
    "    except:\n",
    "        return False  # Si la palabra tiene un error o no se procesa correctamente devuelve 'False'."
   ]
  },
  {
   "attachments": {},
   "cell_type": "markdown",
   "metadata": {},
   "source": [
    "7. Se aplica la función en la base de datos y las palabras que no sean en español e inglés las reemplaza con '|'"
   ]
  },
  {
   "cell_type": "code",
   "execution_count": 9,
   "metadata": {},
   "outputs": [],
   "source": [
    "# Eliminar palabras que no sean español o inglés\n",
    "data['text'] = data['text'].apply(lambda palabra: '|' if not es_ingles_o_espanol(palabra) else palabra)"
   ]
  },
  {
   "attachments": {},
   "cell_type": "markdown",
   "metadata": {},
   "source": [
    "8. Se guardan los resultados en una nueva base de datos llamada 'nuevostweets'."
   ]
  },
  {
   "cell_type": "code",
   "execution_count": 10,
   "metadata": {},
   "outputs": [],
   "source": [
    "data.to_csv('nuevostweets.csv', index=False)"
   ]
  },
  {
   "cell_type": "code",
   "execution_count": 11,
   "metadata": {},
   "outputs": [],
   "source": [
    "# Se le porporciona un nombre a la nueva data\n",
    "data2 = pd.read_csv('nuevostweets.csv',sep=',')"
   ]
  },
  {
   "cell_type": "code",
   "execution_count": 12,
   "metadata": {},
   "outputs": [
    {
     "data": {
      "text/html": [
       "<div>\n",
       "<style scoped>\n",
       "    .dataframe tbody tr th:only-of-type {\n",
       "        vertical-align: middle;\n",
       "    }\n",
       "\n",
       "    .dataframe tbody tr th {\n",
       "        vertical-align: top;\n",
       "    }\n",
       "\n",
       "    .dataframe thead th {\n",
       "        text-align: right;\n",
       "    }\n",
       "</style>\n",
       "<table border=\"1\" class=\"dataframe\">\n",
       "  <thead>\n",
       "    <tr style=\"text-align: right;\">\n",
       "      <th></th>\n",
       "      <th>tweet_id</th>\n",
       "      <th>timestamp</th>\n",
       "      <th>user_id</th>\n",
       "      <th>screen_name</th>\n",
       "      <th>full_name</th>\n",
       "      <th>text</th>\n",
       "      <th>hashtags</th>\n",
       "      <th>mentions</th>\n",
       "      <th>retweet_count</th>\n",
       "      <th>retweet_user</th>\n",
       "      <th>favorite_count</th>\n",
       "      <th>tweet_sentiment</th>\n",
       "    </tr>\n",
       "  </thead>\n",
       "  <tbody>\n",
       "    <tr>\n",
       "      <th>575</th>\n",
       "      <td>1657531873088901120</td>\n",
       "      <td>2023-05-13 23:42:48+00:00</td>\n",
       "      <td>1553203534912700416</td>\n",
       "      <td>web3news5</td>\n",
       "      <td>Bitcoinニュース速報🛸web3🐐</td>\n",
       "      <td>|</td>\n",
       "      <td>['cointelegraph', 'BTC']</td>\n",
       "      <td>[]</td>\n",
       "      <td>0</td>\n",
       "      <td>[]</td>\n",
       "      <td>0</td>\n",
       "      <td>NaN</td>\n",
       "    </tr>\n",
       "    <tr>\n",
       "      <th>2107</th>\n",
       "      <td>1657545496540467201</td>\n",
       "      <td>2023-05-14 00:36:56+00:00</td>\n",
       "      <td>1532140161181847552</td>\n",
       "      <td>Beckabandonar</td>\n",
       "      <td>Quincey 🦖</td>\n",
       "      <td>BTC price bounces at $25.8K lows amid warning ...</td>\n",
       "      <td>['crypto', 'marketanalysis']</td>\n",
       "      <td>[]</td>\n",
       "      <td>0</td>\n",
       "      <td>[]</td>\n",
       "      <td>1</td>\n",
       "      <td>NaN</td>\n",
       "    </tr>\n",
       "    <tr>\n",
       "      <th>2509</th>\n",
       "      <td>1657549642777731077</td>\n",
       "      <td>2023-05-14 00:53:25+00:00</td>\n",
       "      <td>1432609180905508865</td>\n",
       "      <td>BeDotSol</td>\n",
       "      <td>🅱️e.Sol | tD 👑</td>\n",
       "      <td>Dear @ercwl - we are very open and accepting o...</td>\n",
       "      <td>[]</td>\n",
       "      <td>['ercwl']</td>\n",
       "      <td>0</td>\n",
       "      <td>[]</td>\n",
       "      <td>1</td>\n",
       "      <td>NaN</td>\n",
       "    </tr>\n",
       "    <tr>\n",
       "      <th>4211</th>\n",
       "      <td>1657568758993674241</td>\n",
       "      <td>2023-05-14 02:09:22+00:00</td>\n",
       "      <td>1639162651346636800</td>\n",
       "      <td>kawa078241</td>\n",
       "      <td>栄子@専業トレーダー</td>\n",
       "      <td>|</td>\n",
       "      <td>['BTC']</td>\n",
       "      <td>[]</td>\n",
       "      <td>4</td>\n",
       "      <td>['amiami12217', 'aryan57483', 'hase_gawa_44', ...</td>\n",
       "      <td>21</td>\n",
       "      <td>NaN</td>\n",
       "    </tr>\n",
       "    <tr>\n",
       "      <th>6888</th>\n",
       "      <td>1657597911885295618</td>\n",
       "      <td>2023-05-14 04:05:13+00:00</td>\n",
       "      <td>1573871389161193484</td>\n",
       "      <td>Ami80947307</td>\n",
       "      <td>Ami🌊伝説の♥️メリッシュ🏃‍♀️</td>\n",
       "      <td>|</td>\n",
       "      <td>[]</td>\n",
       "      <td>[]</td>\n",
       "      <td>0</td>\n",
       "      <td>[]</td>\n",
       "      <td>1</td>\n",
       "      <td>NaN</td>\n",
       "    </tr>\n",
       "  </tbody>\n",
       "</table>\n",
       "</div>"
      ],
      "text/plain": [
       "                 tweet_id                  timestamp              user_id   \n",
       "575   1657531873088901120  2023-05-13 23:42:48+00:00  1553203534912700416  \\\n",
       "2107  1657545496540467201  2023-05-14 00:36:56+00:00  1532140161181847552   \n",
       "2509  1657549642777731077  2023-05-14 00:53:25+00:00  1432609180905508865   \n",
       "4211  1657568758993674241  2023-05-14 02:09:22+00:00  1639162651346636800   \n",
       "6888  1657597911885295618  2023-05-14 04:05:13+00:00  1573871389161193484   \n",
       "\n",
       "        screen_name            full_name   \n",
       "575       web3news5  Bitcoinニュース速報🛸web3🐐  \\\n",
       "2107  Beckabandonar            Quincey 🦖   \n",
       "2509       BeDotSol       🅱️e.Sol | tD 👑   \n",
       "4211     kawa078241           栄子@専業トレーダー   \n",
       "6888    Ami80947307   Ami🌊伝説の♥️メリッシュ🏃‍♀️   \n",
       "\n",
       "                                                   text   \n",
       "575                                                   |  \\\n",
       "2107  BTC price bounces at $25.8K lows amid warning ...   \n",
       "2509  Dear @ercwl - we are very open and accepting o...   \n",
       "4211                                                  |   \n",
       "6888                                                  |   \n",
       "\n",
       "                          hashtags   mentions  retweet_count   \n",
       "575       ['cointelegraph', 'BTC']         []              0  \\\n",
       "2107  ['crypto', 'marketanalysis']         []              0   \n",
       "2509                            []  ['ercwl']              0   \n",
       "4211                       ['BTC']         []              4   \n",
       "6888                            []         []              0   \n",
       "\n",
       "                                           retweet_user  favorite_count   \n",
       "575                                                  []               0  \\\n",
       "2107                                                 []               1   \n",
       "2509                                                 []               1   \n",
       "4211  ['amiami12217', 'aryan57483', 'hase_gawa_44', ...              21   \n",
       "6888                                                 []               1   \n",
       "\n",
       "      tweet_sentiment  \n",
       "575               NaN  \n",
       "2107              NaN  \n",
       "2509              NaN  \n",
       "4211              NaN  \n",
       "6888              NaN  "
      ]
     },
     "execution_count": 12,
     "metadata": {},
     "output_type": "execute_result"
    }
   ],
   "source": [
    "# Se usa sample para ver aleatoriamente los datos.\n",
    "data2.sample(5)"
   ]
  },
  {
   "attachments": {},
   "cell_type": "markdown",
   "metadata": {},
   "source": [
    "9. Se eliminan las filas que tienen el símbolo '|'."
   ]
  },
  {
   "cell_type": "code",
   "execution_count": 13,
   "metadata": {},
   "outputs": [],
   "source": [
    "data2 = data2[data2['text'] != '|']"
   ]
  },
  {
   "attachments": {},
   "cell_type": "markdown",
   "metadata": {},
   "source": [
    "10. Se observa si hay nulos y la cantidad de datos finales a utilizar"
   ]
  },
  {
   "cell_type": "code",
   "execution_count": 14,
   "metadata": {},
   "outputs": [
    {
     "name": "stdout",
     "output_type": "stream",
     "text": [
      "<class 'pandas.core.frame.DataFrame'>\n",
      "Index: 7787 entries, 0 to 10040\n",
      "Data columns (total 12 columns):\n",
      " #   Column           Non-Null Count  Dtype  \n",
      "---  ------           --------------  -----  \n",
      " 0   tweet_id         7787 non-null   int64  \n",
      " 1   timestamp        7787 non-null   object \n",
      " 2   user_id          7787 non-null   int64  \n",
      " 3   screen_name      7787 non-null   object \n",
      " 4   full_name        7787 non-null   object \n",
      " 5   text             7787 non-null   object \n",
      " 6   hashtags         7787 non-null   object \n",
      " 7   mentions         7787 non-null   object \n",
      " 8   retweet_count    7787 non-null   int64  \n",
      " 9   retweet_user     7787 non-null   object \n",
      " 10  favorite_count   7787 non-null   int64  \n",
      " 11  tweet_sentiment  0 non-null      float64\n",
      "dtypes: float64(1), int64(4), object(7)\n",
      "memory usage: 790.9+ KB\n"
     ]
    }
   ],
   "source": [
    "data2.info()"
   ]
  },
  {
   "attachments": {},
   "cell_type": "markdown",
   "metadata": {},
   "source": [
    "11. Se comprueba que no hay datos en el campo texto con el símbolo '|'."
   ]
  },
  {
   "cell_type": "code",
   "execution_count": 15,
   "metadata": {},
   "outputs": [
    {
     "data": {
      "text/html": [
       "<div>\n",
       "<style scoped>\n",
       "    .dataframe tbody tr th:only-of-type {\n",
       "        vertical-align: middle;\n",
       "    }\n",
       "\n",
       "    .dataframe tbody tr th {\n",
       "        vertical-align: top;\n",
       "    }\n",
       "\n",
       "    .dataframe thead th {\n",
       "        text-align: right;\n",
       "    }\n",
       "</style>\n",
       "<table border=\"1\" class=\"dataframe\">\n",
       "  <thead>\n",
       "    <tr style=\"text-align: right;\">\n",
       "      <th></th>\n",
       "      <th>tweet_id</th>\n",
       "      <th>timestamp</th>\n",
       "      <th>user_id</th>\n",
       "      <th>screen_name</th>\n",
       "      <th>full_name</th>\n",
       "      <th>text</th>\n",
       "      <th>hashtags</th>\n",
       "      <th>mentions</th>\n",
       "      <th>retweet_count</th>\n",
       "      <th>retweet_user</th>\n",
       "      <th>favorite_count</th>\n",
       "      <th>tweet_sentiment</th>\n",
       "    </tr>\n",
       "  </thead>\n",
       "  <tbody>\n",
       "    <tr>\n",
       "      <th>965</th>\n",
       "      <td>1657535333590880260</td>\n",
       "      <td>2023-05-13 23:56:33+00:00</td>\n",
       "      <td>3647823495</td>\n",
       "      <td>causeactivators</td>\n",
       "      <td>Cause Activators</td>\n",
       "      <td>👇Thank you $YODA for the airdrop i got mine🚀 🦨...</td>\n",
       "      <td>[]</td>\n",
       "      <td>[]</td>\n",
       "      <td>0</td>\n",
       "      <td>[]</td>\n",
       "      <td>0</td>\n",
       "      <td>NaN</td>\n",
       "    </tr>\n",
       "    <tr>\n",
       "      <th>9752</th>\n",
       "      <td>1657653577404366848</td>\n",
       "      <td>2023-05-14 07:46:25+00:00</td>\n",
       "      <td>1701489031</td>\n",
       "      <td>AdeliaP_17</td>\n",
       "      <td>Adelia Putri</td>\n",
       "      <td>1 🚨 $psyop is coming to Arbitrum.\\n\\n$BEN is b...</td>\n",
       "      <td>[]</td>\n",
       "      <td>[]</td>\n",
       "      <td>0</td>\n",
       "      <td>[]</td>\n",
       "      <td>0</td>\n",
       "      <td>NaN</td>\n",
       "    </tr>\n",
       "    <tr>\n",
       "      <th>6744</th>\n",
       "      <td>1657596674259255298</td>\n",
       "      <td>2023-05-14 04:00:18+00:00</td>\n",
       "      <td>1094879552361373698</td>\n",
       "      <td>kurneoldu</td>\n",
       "      <td>Kur Ne Oldu</td>\n",
       "      <td>⏰ 07:00  \\n🥇 #BTC = 26,882.58 $ \\n#bitcoin #bt...</td>\n",
       "      <td>['BTC', 'bitcoin', 'btc', 'BTCUSD']</td>\n",
       "      <td>[]</td>\n",
       "      <td>0</td>\n",
       "      <td>[]</td>\n",
       "      <td>0</td>\n",
       "      <td>NaN</td>\n",
       "    </tr>\n",
       "    <tr>\n",
       "      <th>2101</th>\n",
       "      <td>1657545440030498822</td>\n",
       "      <td>2023-05-14 00:36:43+00:00</td>\n",
       "      <td>1466591318466080774</td>\n",
       "      <td>BC_of_BTC</td>\n",
       "      <td>Bitcoin Made This Possible</td>\n",
       "      <td>@PantherFan87 @J0nSPEC @ScooterMagruder There ...</td>\n",
       "      <td>[]</td>\n",
       "      <td>['PantherFan87', 'J0nSPEC', 'ScooterMagruder']</td>\n",
       "      <td>0</td>\n",
       "      <td>[]</td>\n",
       "      <td>0</td>\n",
       "      <td>NaN</td>\n",
       "    </tr>\n",
       "    <tr>\n",
       "      <th>8769</th>\n",
       "      <td>1657611921627987969</td>\n",
       "      <td>2023-05-14 05:00:53+00:00</td>\n",
       "      <td>1413515007355146240</td>\n",
       "      <td>optionstrackbot</td>\n",
       "      <td>coinoptionstrack bot</td>\n",
       "      <td>🟥 $BTC block trade alert [Deribit] 🧱🧱 \\n\\nJUL(...</td>\n",
       "      <td>[]</td>\n",
       "      <td>[]</td>\n",
       "      <td>0</td>\n",
       "      <td>[]</td>\n",
       "      <td>0</td>\n",
       "      <td>NaN</td>\n",
       "    </tr>\n",
       "  </tbody>\n",
       "</table>\n",
       "</div>"
      ],
      "text/plain": [
       "                 tweet_id                  timestamp              user_id   \n",
       "965   1657535333590880260  2023-05-13 23:56:33+00:00           3647823495  \\\n",
       "9752  1657653577404366848  2023-05-14 07:46:25+00:00           1701489031   \n",
       "6744  1657596674259255298  2023-05-14 04:00:18+00:00  1094879552361373698   \n",
       "2101  1657545440030498822  2023-05-14 00:36:43+00:00  1466591318466080774   \n",
       "8769  1657611921627987969  2023-05-14 05:00:53+00:00  1413515007355146240   \n",
       "\n",
       "          screen_name                   full_name   \n",
       "965   causeactivators            Cause Activators  \\\n",
       "9752       AdeliaP_17                Adelia Putri   \n",
       "6744        kurneoldu                 Kur Ne Oldu   \n",
       "2101        BC_of_BTC  Bitcoin Made This Possible   \n",
       "8769  optionstrackbot        coinoptionstrack bot   \n",
       "\n",
       "                                                   text   \n",
       "965   👇Thank you $YODA for the airdrop i got mine🚀 🦨...  \\\n",
       "9752  1 🚨 $psyop is coming to Arbitrum.\\n\\n$BEN is b...   \n",
       "6744  ⏰ 07:00  \\n🥇 #BTC = 26,882.58 $ \\n#bitcoin #bt...   \n",
       "2101  @PantherFan87 @J0nSPEC @ScooterMagruder There ...   \n",
       "8769  🟥 $BTC block trade alert [Deribit] 🧱🧱 \\n\\nJUL(...   \n",
       "\n",
       "                                 hashtags   \n",
       "965                                    []  \\\n",
       "9752                                   []   \n",
       "6744  ['BTC', 'bitcoin', 'btc', 'BTCUSD']   \n",
       "2101                                   []   \n",
       "8769                                   []   \n",
       "\n",
       "                                            mentions  retweet_count   \n",
       "965                                               []              0  \\\n",
       "9752                                              []              0   \n",
       "6744                                              []              0   \n",
       "2101  ['PantherFan87', 'J0nSPEC', 'ScooterMagruder']              0   \n",
       "8769                                              []              0   \n",
       "\n",
       "     retweet_user  favorite_count  tweet_sentiment  \n",
       "965            []               0              NaN  \n",
       "9752           []               0              NaN  \n",
       "6744           []               0              NaN  \n",
       "2101           []               0              NaN  \n",
       "8769           []               0              NaN  "
      ]
     },
     "execution_count": 15,
     "metadata": {},
     "output_type": "execute_result"
    }
   ],
   "source": [
    "data2.sample(5)"
   ]
  },
  {
   "attachments": {},
   "cell_type": "markdown",
   "metadata": {},
   "source": [
    "12. Se convierte la columna 'timestamp' en un objeto datetime"
   ]
  },
  {
   "cell_type": "code",
   "execution_count": 16,
   "metadata": {},
   "outputs": [],
   "source": [
    "data2['timestamp'] = pd.to_datetime(data2['timestamp'])"
   ]
  },
  {
   "attachments": {},
   "cell_type": "markdown",
   "metadata": {},
   "source": [
    "13. Se extrae solo la fecha en una nueva columna llamada 'fecha'."
   ]
  },
  {
   "cell_type": "code",
   "execution_count": 17,
   "metadata": {},
   "outputs": [],
   "source": [
    "data2['fecha'] = data2['timestamp'].dt.date"
   ]
  },
  {
   "attachments": {},
   "cell_type": "markdown",
   "metadata": {},
   "source": [
    "14. Se comprueba que exista la columna 'fecha'"
   ]
  },
  {
   "cell_type": "code",
   "execution_count": 18,
   "metadata": {},
   "outputs": [
    {
     "data": {
      "text/html": [
       "<div>\n",
       "<style scoped>\n",
       "    .dataframe tbody tr th:only-of-type {\n",
       "        vertical-align: middle;\n",
       "    }\n",
       "\n",
       "    .dataframe tbody tr th {\n",
       "        vertical-align: top;\n",
       "    }\n",
       "\n",
       "    .dataframe thead th {\n",
       "        text-align: right;\n",
       "    }\n",
       "</style>\n",
       "<table border=\"1\" class=\"dataframe\">\n",
       "  <thead>\n",
       "    <tr style=\"text-align: right;\">\n",
       "      <th></th>\n",
       "      <th>tweet_id</th>\n",
       "      <th>timestamp</th>\n",
       "      <th>user_id</th>\n",
       "      <th>screen_name</th>\n",
       "      <th>full_name</th>\n",
       "      <th>text</th>\n",
       "      <th>hashtags</th>\n",
       "      <th>mentions</th>\n",
       "      <th>retweet_count</th>\n",
       "      <th>retweet_user</th>\n",
       "      <th>favorite_count</th>\n",
       "      <th>tweet_sentiment</th>\n",
       "      <th>fecha</th>\n",
       "    </tr>\n",
       "  </thead>\n",
       "  <tbody>\n",
       "    <tr>\n",
       "      <th>4694</th>\n",
       "      <td>1657574499330539521</td>\n",
       "      <td>2023-05-14 02:32:11+00:00</td>\n",
       "      <td>948551073387642880</td>\n",
       "      <td>DYORCryptoBot</td>\n",
       "      <td>DYOR.net Crypto</td>\n",
       "      <td>[Scan results - Gate·io - 15m]\\n\\nTop 5 bullis...</td>\n",
       "      <td>[]</td>\n",
       "      <td>[]</td>\n",
       "      <td>1</td>\n",
       "      <td>['eos__global']</td>\n",
       "      <td>1</td>\n",
       "      <td>NaN</td>\n",
       "      <td>2023-05-14</td>\n",
       "    </tr>\n",
       "    <tr>\n",
       "      <th>8682</th>\n",
       "      <td>1657611578680700928</td>\n",
       "      <td>2023-05-14 04:59:31+00:00</td>\n",
       "      <td>2278426806</td>\n",
       "      <td>mark94121</td>\n",
       "      <td>mark</td>\n",
       "      <td>HI I'm an AI bot I will show my result\\nfor in...</td>\n",
       "      <td>['doge', 'dogechallenge', 'AI', 'tradingAI', '...</td>\n",
       "      <td>[]</td>\n",
       "      <td>0</td>\n",
       "      <td>[]</td>\n",
       "      <td>0</td>\n",
       "      <td>NaN</td>\n",
       "      <td>2023-05-14</td>\n",
       "    </tr>\n",
       "    <tr>\n",
       "      <th>3520</th>\n",
       "      <td>1657560442871373833</td>\n",
       "      <td>2023-05-14 01:36:20+00:00</td>\n",
       "      <td>1586826808829349890</td>\n",
       "      <td>Justlerkinghere</td>\n",
       "      <td>Cryptos into my wallet</td>\n",
       "      <td>Unleash your #crypto &amp;amp; $BTC trading potent...</td>\n",
       "      <td>['crypto', 'ETH', 'BTC', 'InLiqsWeTrust']</td>\n",
       "      <td>['kingfisher_btc']</td>\n",
       "      <td>0</td>\n",
       "      <td>[]</td>\n",
       "      <td>0</td>\n",
       "      <td>NaN</td>\n",
       "      <td>2023-05-14</td>\n",
       "    </tr>\n",
       "    <tr>\n",
       "      <th>5437</th>\n",
       "      <td>1657582460367151105</td>\n",
       "      <td>2023-05-14 03:03:49+00:00</td>\n",
       "      <td>7622102</td>\n",
       "      <td>memobug</td>\n",
       "      <td>Dr Ouchie</td>\n",
       "      <td>@btc_ltc @mjr_nightmare @4Mischief You’re fool...</td>\n",
       "      <td>[]</td>\n",
       "      <td>['btc_ltc', 'mjr_nightmare', '4Mischief']</td>\n",
       "      <td>0</td>\n",
       "      <td>[]</td>\n",
       "      <td>0</td>\n",
       "      <td>NaN</td>\n",
       "      <td>2023-05-14</td>\n",
       "    </tr>\n",
       "    <tr>\n",
       "      <th>7142</th>\n",
       "      <td>1657601052634411013</td>\n",
       "      <td>2023-05-14 04:17:42+00:00</td>\n",
       "      <td>469956482</td>\n",
       "      <td>vvauskla</td>\n",
       "      <td>vvauskla</td>\n",
       "      <td>Ecstasy pills💊\\n#ecstasy #xtc #kenzotigers #Ma...</td>\n",
       "      <td>['ecstasy', 'xtc', 'kenzotigers', 'Maserati', ...</td>\n",
       "      <td>[]</td>\n",
       "      <td>0</td>\n",
       "      <td>[]</td>\n",
       "      <td>0</td>\n",
       "      <td>NaN</td>\n",
       "      <td>2023-05-14</td>\n",
       "    </tr>\n",
       "  </tbody>\n",
       "</table>\n",
       "</div>"
      ],
      "text/plain": [
       "                 tweet_id                 timestamp              user_id   \n",
       "4694  1657574499330539521 2023-05-14 02:32:11+00:00   948551073387642880  \\\n",
       "8682  1657611578680700928 2023-05-14 04:59:31+00:00           2278426806   \n",
       "3520  1657560442871373833 2023-05-14 01:36:20+00:00  1586826808829349890   \n",
       "5437  1657582460367151105 2023-05-14 03:03:49+00:00              7622102   \n",
       "7142  1657601052634411013 2023-05-14 04:17:42+00:00            469956482   \n",
       "\n",
       "          screen_name               full_name   \n",
       "4694    DYORCryptoBot         DYOR.net Crypto  \\\n",
       "8682        mark94121                    mark   \n",
       "3520  Justlerkinghere  Cryptos into my wallet   \n",
       "5437          memobug               Dr Ouchie   \n",
       "7142         vvauskla                vvauskla   \n",
       "\n",
       "                                                   text   \n",
       "4694  [Scan results - Gate·io - 15m]\\n\\nTop 5 bullis...  \\\n",
       "8682  HI I'm an AI bot I will show my result\\nfor in...   \n",
       "3520  Unleash your #crypto &amp; $BTC trading potent...   \n",
       "5437  @btc_ltc @mjr_nightmare @4Mischief You’re fool...   \n",
       "7142  Ecstasy pills💊\\n#ecstasy #xtc #kenzotigers #Ma...   \n",
       "\n",
       "                                               hashtags   \n",
       "4694                                                 []  \\\n",
       "8682  ['doge', 'dogechallenge', 'AI', 'tradingAI', '...   \n",
       "3520          ['crypto', 'ETH', 'BTC', 'InLiqsWeTrust']   \n",
       "5437                                                 []   \n",
       "7142  ['ecstasy', 'xtc', 'kenzotigers', 'Maserati', ...   \n",
       "\n",
       "                                       mentions  retweet_count   \n",
       "4694                                         []              1  \\\n",
       "8682                                         []              0   \n",
       "3520                         ['kingfisher_btc']              0   \n",
       "5437  ['btc_ltc', 'mjr_nightmare', '4Mischief']              0   \n",
       "7142                                         []              0   \n",
       "\n",
       "         retweet_user  favorite_count  tweet_sentiment       fecha  \n",
       "4694  ['eos__global']               1              NaN  2023-05-14  \n",
       "8682               []               0              NaN  2023-05-14  \n",
       "3520               []               0              NaN  2023-05-14  \n",
       "5437               []               0              NaN  2023-05-14  \n",
       "7142               []               0              NaN  2023-05-14  "
      ]
     },
     "execution_count": 18,
     "metadata": {},
     "output_type": "execute_result"
    }
   ],
   "source": [
    "data2.sample(5)"
   ]
  },
  {
   "cell_type": "code",
   "execution_count": 19,
   "metadata": {},
   "outputs": [],
   "source": [
    "# Se eliminan las columnas que no se van a utilizar\n",
    "columnas_eliminar = ['tweet_id', 'timestamp','user_id','screen_name','full_name','hashtags','mentions','retweet_count','retweet_user','favorite_count','tweet_sentiment']\n",
    "data2 = data2.drop(columnas_eliminar, axis=1)"
   ]
  },
  {
   "attachments": {},
   "cell_type": "markdown",
   "metadata": {},
   "source": [
    "## Ver la disperción de los datos"
   ]
  },
  {
   "attachments": {},
   "cell_type": "markdown",
   "metadata": {},
   "source": [
    "1. Se instala la librería 'wordcloud' para poder visualizar las palabras repetidas."
   ]
  },
  {
   "cell_type": "code",
   "execution_count": 20,
   "metadata": {},
   "outputs": [],
   "source": [
    "# pip install wordcloud"
   ]
  },
  {
   "attachments": {},
   "cell_type": "markdown",
   "metadata": {},
   "source": [
    "2. Se Importa WordCloud"
   ]
  },
  {
   "cell_type": "code",
   "execution_count": 21,
   "metadata": {},
   "outputs": [],
   "source": [
    "from wordcloud import WordCloud"
   ]
  },
  {
   "attachments": {},
   "cell_type": "markdown",
   "metadata": {},
   "source": [
    "3. Se crea una variable text de la columna del dataframe para la visualización."
   ]
  },
  {
   "cell_type": "code",
   "execution_count": 22,
   "metadata": {},
   "outputs": [],
   "source": [
    "text=data2['text']"
   ]
  },
  {
   "attachments": {},
   "cell_type": "markdown",
   "metadata": {},
   "source": [
    "4. Se usa WordCloud para la visualización de nube de palabras en una variable."
   ]
  },
  {
   "cell_type": "code",
   "execution_count": 23,
   "metadata": {},
   "outputs": [],
   "source": [
    "wordcloud = WordCloud(background_color=\"white\", colormap='Dark2', max_font_size=150, random_state=42).generate(str(text))"
   ]
  },
  {
   "attachments": {},
   "cell_type": "markdown",
   "metadata": {},
   "source": [
    "5. Se importa matplotlib.pyplot para graficar."
   ]
  },
  {
   "cell_type": "code",
   "execution_count": 24,
   "metadata": {},
   "outputs": [],
   "source": [
    "import matplotlib.pyplot as plt"
   ]
  },
  {
   "attachments": {},
   "cell_type": "markdown",
   "metadata": {},
   "source": [
    "6. Se carga la gráfica para poder observar las palabras repetidas."
   ]
  },
  {
   "cell_type": "code",
   "execution_count": 25,
   "metadata": {},
   "outputs": [
    {
     "data": {
      "image/png": "[encoded data removed]",
      "text/plain": [
       "<Figure size 640x480 with 1 Axes>"
      ]
     },
     "metadata": {},
     "output_type": "display_data"
    }
   ],
   "source": [
    "plt.imshow(wordcloud,interpolation='bilinear')\n",
    "plt.title ('Palabras repetidad de Bitcoin en Twitter')\n",
    "plt.show()"
   ]
  },
  {
   "attachments": {},
   "cell_type": "markdown",
   "metadata": {},
   "source": [
    "## Categorizar el texto"
   ]
  },
  {
   "cell_type": "code",
   "execution_count": 26,
   "metadata": {},
   "outputs": [],
   "source": [
    "# https://www.arsys.es/blog/analisis-sentimientos-python-jupyter-notebooks"
   ]
  },
  {
   "attachments": {},
   "cell_type": "markdown",
   "metadata": {},
   "source": [
    "1. Se instala el paquete 'nltk' de Natural Language Toolkit que procesa el leguaje natural."
   ]
  },
  {
   "cell_type": "code",
   "execution_count": 27,
   "metadata": {},
   "outputs": [
    {
     "name": "stdout",
     "output_type": "stream",
     "text": [
      "Requirement already satisfied: nltk in c:\\users\\mi pc\\appdata\\local\\packages\\pythonsoftwarefoundation.python.3.10_qbz5n2kfra8p0\\localcache\\local-packages\\python310\\site-packages (3.8.1)Note: you may need to restart the kernel to use updated packages.\n"
     ]
    },
    {
     "name": "stderr",
     "output_type": "stream",
     "text": [
      "\n",
      "[notice] A new release of pip is available: 23.0.1 -> 23.1.2\n",
      "[notice] To update, run: C:\\Users\\MI PC\\AppData\\Local\\Microsoft\\WindowsApps\\PythonSoftwareFoundation.Python.3.10_qbz5n2kfra8p0\\python.exe -m pip install --upgrade pip\n"
     ]
    },
    {
     "name": "stdout",
     "output_type": "stream",
     "text": [
      "\n",
      "Requirement already satisfied: regex>=2021.8.3 in c:\\users\\mi pc\\appdata\\local\\packages\\pythonsoftwarefoundation.python.3.10_qbz5n2kfra8p0\\localcache\\local-packages\\python310\\site-packages (from nltk) (2023.5.5)\n",
      "Requirement already satisfied: joblib in c:\\users\\mi pc\\appdata\\local\\packages\\pythonsoftwarefoundation.python.3.10_qbz5n2kfra8p0\\localcache\\local-packages\\python310\\site-packages (from nltk) (1.2.0)\n",
      "Requirement already satisfied: click in c:\\users\\mi pc\\appdata\\local\\packages\\pythonsoftwarefoundation.python.3.10_qbz5n2kfra8p0\\localcache\\local-packages\\python310\\site-packages (from nltk) (8.1.3)\n",
      "Requirement already satisfied: tqdm in c:\\users\\mi pc\\appdata\\local\\packages\\pythonsoftwarefoundation.python.3.10_qbz5n2kfra8p0\\localcache\\local-packages\\python310\\site-packages (from nltk) (4.65.0)\n",
      "Requirement already satisfied: colorama in c:\\users\\mi pc\\appdata\\local\\packages\\pythonsoftwarefoundation.python.3.10_qbz5n2kfra8p0\\localcache\\local-packages\\python310\\site-packages (from click->nltk) (0.4.6)\n"
     ]
    }
   ],
   "source": [
    "pip install --user nltk"
   ]
  },
  {
   "attachments": {},
   "cell_type": "markdown",
   "metadata": {},
   "source": [
    "2. Se importa 'nltk' para usar los recursos del paquete instalado."
   ]
  },
  {
   "cell_type": "code",
   "execution_count": 28,
   "metadata": {},
   "outputs": [
    {
     "name": "stderr",
     "output_type": "stream",
     "text": [
      "[nltk_data] Downloading package vader_lexicon to C:\\Users\\MI\n",
      "[nltk_data]     PC\\AppData\\Roaming\\nltk_data...\n",
      "[nltk_data]   Package vader_lexicon is already up-to-date!\n",
      "[nltk_data] Downloading package punkt to C:\\Users\\MI\n",
      "[nltk_data]     PC\\AppData\\Roaming\\nltk_data...\n",
      "[nltk_data]   Package punkt is already up-to-date!\n"
     ]
    },
    {
     "data": {
      "text/plain": [
       "True"
      ]
     },
     "execution_count": 28,
     "metadata": {},
     "output_type": "execute_result"
    }
   ],
   "source": [
    "import nltk\n",
    "from nltk.sentiment.vader import SentimentIntensityAnalyzer\n",
    "from nltk import sentiment\n",
    "from nltk import word_tokenize\n",
    "nltk.download('vader_lexicon') # Descarga vader_lexicon para el análisis de sentimientos.\n",
    "nltk.download('punkt') # Descarga punkt, un modelo de toquenización que divide el texto en palabras individuales"
   ]
  },
  {
   "attachments": {},
   "cell_type": "markdown",
   "metadata": {},
   "source": [
    "3. Se crea una valiable para que inicie el analizador de sentimientos VADER."
   ]
  },
  {
   "cell_type": "code",
   "execution_count": 29,
   "metadata": {},
   "outputs": [],
   "source": [
    "analizador = SentimentIntensityAnalyzer()"
   ]
  },
  {
   "attachments": {},
   "cell_type": "markdown",
   "metadata": {},
   "source": [
    "4. Se crea una función para obtener el puntaje del sentimiento entre los valores (1 y -1), donde 1 es positivo y -1 es negativo.\n"
   ]
  },
  {
   "cell_type": "code",
   "execution_count": 30,
   "metadata": {},
   "outputs": [],
   "source": [
    "def Puntaje_Sentimiento(text):\n",
    "    tokens = word_tokenize(text)  # Tokenizar el texto\n",
    "    scores = analizador.polarity_scores(text)  # Obtener los puntajes de sentimiento\n",
    "    return scores['compound']  # Retornar el puntaje compuesto"
   ]
  },
  {
   "attachments": {},
   "cell_type": "markdown",
   "metadata": {},
   "source": [
    "5. Se aplica la función 'Puntaje_Sentimiento' en el dataframe."
   ]
  },
  {
   "cell_type": "code",
   "execution_count": 31,
   "metadata": {},
   "outputs": [],
   "source": [
    "data2['score_sentimientos'] = data2['text'].apply(Puntaje_Sentimiento)"
   ]
  },
  {
   "attachments": {},
   "cell_type": "markdown",
   "metadata": {},
   "source": [
    "6. Se comprueba si está la columna 'score_sentimientos'."
   ]
  },
  {
   "cell_type": "code",
   "execution_count": 32,
   "metadata": {},
   "outputs": [
    {
     "data": {
      "text/html": [
       "<div>\n",
       "<style scoped>\n",
       "    .dataframe tbody tr th:only-of-type {\n",
       "        vertical-align: middle;\n",
       "    }\n",
       "\n",
       "    .dataframe tbody tr th {\n",
       "        vertical-align: top;\n",
       "    }\n",
       "\n",
       "    .dataframe thead th {\n",
       "        text-align: right;\n",
       "    }\n",
       "</style>\n",
       "<table border=\"1\" class=\"dataframe\">\n",
       "  <thead>\n",
       "    <tr style=\"text-align: right;\">\n",
       "      <th></th>\n",
       "      <th>text</th>\n",
       "      <th>fecha</th>\n",
       "      <th>score_sentimientos</th>\n",
       "    </tr>\n",
       "  </thead>\n",
       "  <tbody>\n",
       "    <tr>\n",
       "      <th>5837</th>\n",
       "      <td>@btc_bryan_21 @EdKrassen That’s like saying “t...</td>\n",
       "      <td>2023-05-14</td>\n",
       "      <td>-0.2112</td>\n",
       "    </tr>\n",
       "    <tr>\n",
       "      <th>552</th>\n",
       "      <td>@Forbes @ForbesVetted I'm willing to show 10 l...</td>\n",
       "      <td>2023-05-13</td>\n",
       "      <td>0.5244</td>\n",
       "    </tr>\n",
       "    <tr>\n",
       "      <th>3282</th>\n",
       "      <td>@BitcoinMagazine Do we have a projected date? ...</td>\n",
       "      <td>2023-05-14</td>\n",
       "      <td>0.0000</td>\n",
       "    </tr>\n",
       "    <tr>\n",
       "      <th>9035</th>\n",
       "      <td>Do you think defi exchanges😶‍🌫 should be gover...</td>\n",
       "      <td>2023-05-14</td>\n",
       "      <td>-0.5267</td>\n",
       "    </tr>\n",
       "    <tr>\n",
       "      <th>5621</th>\n",
       "      <td>Is $BTC goin to $2800 now? https://t.co/5v3fpW...</td>\n",
       "      <td>2023-05-14</td>\n",
       "      <td>0.0000</td>\n",
       "    </tr>\n",
       "  </tbody>\n",
       "</table>\n",
       "</div>"
      ],
      "text/plain": [
       "                                                   text       fecha   \n",
       "5837  @btc_bryan_21 @EdKrassen That’s like saying “t...  2023-05-14  \\\n",
       "552   @Forbes @ForbesVetted I'm willing to show 10 l...  2023-05-13   \n",
       "3282  @BitcoinMagazine Do we have a projected date? ...  2023-05-14   \n",
       "9035  Do you think defi exchanges😶‍🌫 should be gover...  2023-05-14   \n",
       "5621  Is $BTC goin to $2800 now? https://t.co/5v3fpW...  2023-05-14   \n",
       "\n",
       "      score_sentimientos  \n",
       "5837             -0.2112  \n",
       "552               0.5244  \n",
       "3282              0.0000  \n",
       "9035             -0.5267  \n",
       "5621              0.0000  "
      ]
     },
     "execution_count": 32,
     "metadata": {},
     "output_type": "execute_result"
    }
   ],
   "source": [
    "data2.sample(5)"
   ]
  },
  {
   "cell_type": "code",
   "execution_count": 33,
   "metadata": {},
   "outputs": [
    {
     "data": {
      "text/html": [
       "<div>\n",
       "<style scoped>\n",
       "    .dataframe tbody tr th:only-of-type {\n",
       "        vertical-align: middle;\n",
       "    }\n",
       "\n",
       "    .dataframe tbody tr th {\n",
       "        vertical-align: top;\n",
       "    }\n",
       "\n",
       "    .dataframe thead th {\n",
       "        text-align: right;\n",
       "    }\n",
       "</style>\n",
       "<table border=\"1\" class=\"dataframe\">\n",
       "  <thead>\n",
       "    <tr style=\"text-align: right;\">\n",
       "      <th></th>\n",
       "      <th>score_sentimientos</th>\n",
       "    </tr>\n",
       "  </thead>\n",
       "  <tbody>\n",
       "    <tr>\n",
       "      <th>count</th>\n",
       "      <td>7787.00000</td>\n",
       "    </tr>\n",
       "    <tr>\n",
       "      <th>mean</th>\n",
       "      <td>0.12505</td>\n",
       "    </tr>\n",
       "    <tr>\n",
       "      <th>std</th>\n",
       "      <td>0.39851</td>\n",
       "    </tr>\n",
       "    <tr>\n",
       "      <th>min</th>\n",
       "      <td>-0.98210</td>\n",
       "    </tr>\n",
       "    <tr>\n",
       "      <th>25%</th>\n",
       "      <td>0.00000</td>\n",
       "    </tr>\n",
       "    <tr>\n",
       "      <th>50%</th>\n",
       "      <td>0.00000</td>\n",
       "    </tr>\n",
       "    <tr>\n",
       "      <th>75%</th>\n",
       "      <td>0.43890</td>\n",
       "    </tr>\n",
       "    <tr>\n",
       "      <th>max</th>\n",
       "      <td>0.98130</td>\n",
       "    </tr>\n",
       "  </tbody>\n",
       "</table>\n",
       "</div>"
      ],
      "text/plain": [
       "       score_sentimientos\n",
       "count          7787.00000\n",
       "mean              0.12505\n",
       "std               0.39851\n",
       "min              -0.98210\n",
       "25%               0.00000\n",
       "50%               0.00000\n",
       "75%               0.43890\n",
       "max               0.98130"
      ]
     },
     "execution_count": 33,
     "metadata": {},
     "output_type": "execute_result"
    }
   ],
   "source": [
    "data2.describe()"
   ]
  },
  {
   "attachments": {},
   "cell_type": "markdown",
   "metadata": {},
   "source": [
    "7. Poner los valores positivos como 1 y los negativos en 0"
   ]
  },
  {
   "cell_type": "code",
   "execution_count": 44,
   "metadata": {},
   "outputs": [],
   "source": [
    "# Se agrega una columna para la categorización.\n",
    "data2['categorizacion'] = data2['score_sentimientos'].apply(lambda x: 1 if x > 0 else 0)"
   ]
  },
  {
   "cell_type": "code",
   "execution_count": 45,
   "metadata": {},
   "outputs": [
    {
     "data": {
      "text/html": [
       "<div>\n",
       "<style scoped>\n",
       "    .dataframe tbody tr th:only-of-type {\n",
       "        vertical-align: middle;\n",
       "    }\n",
       "\n",
       "    .dataframe tbody tr th {\n",
       "        vertical-align: top;\n",
       "    }\n",
       "\n",
       "    .dataframe thead th {\n",
       "        text-align: right;\n",
       "    }\n",
       "</style>\n",
       "<table border=\"1\" class=\"dataframe\">\n",
       "  <thead>\n",
       "    <tr style=\"text-align: right;\">\n",
       "      <th></th>\n",
       "      <th>text</th>\n",
       "      <th>fecha</th>\n",
       "      <th>score_sentimientos</th>\n",
       "      <th>categorizacion</th>\n",
       "      <th>Categoria_0</th>\n",
       "      <th>Categoria_1</th>\n",
       "    </tr>\n",
       "  </thead>\n",
       "  <tbody>\n",
       "    <tr>\n",
       "      <th>6812</th>\n",
       "      <td>new listing\\n#bsc #eth #btc #gemalert https://...</td>\n",
       "      <td>2023-05-14</td>\n",
       "      <td>0.0000</td>\n",
       "      <td>0</td>\n",
       "      <td>True</td>\n",
       "      <td>False</td>\n",
       "    </tr>\n",
       "    <tr>\n",
       "      <th>4510</th>\n",
       "      <td>#Bitcoin hitting upper level 2nd band 1minute ...</td>\n",
       "      <td>2023-05-14</td>\n",
       "      <td>0.0000</td>\n",
       "      <td>0</td>\n",
       "      <td>True</td>\n",
       "      <td>False</td>\n",
       "    </tr>\n",
       "    <tr>\n",
       "      <th>865</th>\n",
       "      <td>$Pepe Fam and $BTC fam working out some issues...</td>\n",
       "      <td>2023-05-13</td>\n",
       "      <td>0.5229</td>\n",
       "      <td>1</td>\n",
       "      <td>False</td>\n",
       "      <td>True</td>\n",
       "    </tr>\n",
       "    <tr>\n",
       "      <th>5273</th>\n",
       "      <td>Price analysis 5/10: BTC, ETH, BNB, XRP, ADA, ...</td>\n",
       "      <td>2023-05-14</td>\n",
       "      <td>0.0000</td>\n",
       "      <td>0</td>\n",
       "      <td>True</td>\n",
       "      <td>False</td>\n",
       "    </tr>\n",
       "    <tr>\n",
       "      <th>1529</th>\n",
       "      <td>❗ My Thoughts on the Performance Raise... ✅\\n\\...</td>\n",
       "      <td>2023-05-14</td>\n",
       "      <td>0.0000</td>\n",
       "      <td>0</td>\n",
       "      <td>True</td>\n",
       "      <td>False</td>\n",
       "    </tr>\n",
       "  </tbody>\n",
       "</table>\n",
       "</div>"
      ],
      "text/plain": [
       "                                                   text       fecha   \n",
       "6812  new listing\\n#bsc #eth #btc #gemalert https://...  2023-05-14  \\\n",
       "4510  #Bitcoin hitting upper level 2nd band 1minute ...  2023-05-14   \n",
       "865   $Pepe Fam and $BTC fam working out some issues...  2023-05-13   \n",
       "5273  Price analysis 5/10: BTC, ETH, BNB, XRP, ADA, ...  2023-05-14   \n",
       "1529  ❗ My Thoughts on the Performance Raise... ✅\\n\\...  2023-05-14   \n",
       "\n",
       "      score_sentimientos  categorizacion  Categoria_0  Categoria_1  \n",
       "6812              0.0000               0         True        False  \n",
       "4510              0.0000               0         True        False  \n",
       "865               0.5229               1        False         True  \n",
       "5273              0.0000               0         True        False  \n",
       "1529              0.0000               0         True        False  "
      ]
     },
     "execution_count": 45,
     "metadata": {},
     "output_type": "execute_result"
    }
   ],
   "source": [
    "# Se comprueba si se encuentra la columna agregada.\n",
    "data2.sample(5)"
   ]
  },
  {
   "attachments": {},
   "cell_type": "markdown",
   "metadata": {},
   "source": [
    "## Métricas estadísticas"
   ]
  },
  {
   "attachments": {},
   "cell_type": "markdown",
   "metadata": {},
   "source": [
    "1. Revisamos los datos generales de nuestro datset llamado \"data2\""
   ]
  },
  {
   "cell_type": "code",
   "execution_count": 36,
   "metadata": {},
   "outputs": [
    {
     "data": {
      "text/plain": [
       "(7787, 4)"
      ]
     },
     "execution_count": 36,
     "metadata": {},
     "output_type": "execute_result"
    }
   ],
   "source": [
    "#El tamaño del dataset con shape.\n",
    "data2.shape"
   ]
  },
  {
   "cell_type": "code",
   "execution_count": 46,
   "metadata": {},
   "outputs": [
    {
     "data": {
      "text/html": [
       "<div>\n",
       "<style scoped>\n",
       "    .dataframe tbody tr th:only-of-type {\n",
       "        vertical-align: middle;\n",
       "    }\n",
       "\n",
       "    .dataframe tbody tr th {\n",
       "        vertical-align: top;\n",
       "    }\n",
       "\n",
       "    .dataframe thead th {\n",
       "        text-align: right;\n",
       "    }\n",
       "</style>\n",
       "<table border=\"1\" class=\"dataframe\">\n",
       "  <thead>\n",
       "    <tr style=\"text-align: right;\">\n",
       "      <th></th>\n",
       "      <th>score_sentimientos</th>\n",
       "      <th>categorizacion</th>\n",
       "    </tr>\n",
       "  </thead>\n",
       "  <tbody>\n",
       "    <tr>\n",
       "      <th>count</th>\n",
       "      <td>7787.00000</td>\n",
       "      <td>7787.000000</td>\n",
       "    </tr>\n",
       "    <tr>\n",
       "      <th>mean</th>\n",
       "      <td>0.12505</td>\n",
       "      <td>0.416463</td>\n",
       "    </tr>\n",
       "    <tr>\n",
       "      <th>std</th>\n",
       "      <td>0.39851</td>\n",
       "      <td>0.493004</td>\n",
       "    </tr>\n",
       "    <tr>\n",
       "      <th>min</th>\n",
       "      <td>-0.98210</td>\n",
       "      <td>0.000000</td>\n",
       "    </tr>\n",
       "    <tr>\n",
       "      <th>25%</th>\n",
       "      <td>0.00000</td>\n",
       "      <td>0.000000</td>\n",
       "    </tr>\n",
       "    <tr>\n",
       "      <th>50%</th>\n",
       "      <td>0.00000</td>\n",
       "      <td>0.000000</td>\n",
       "    </tr>\n",
       "    <tr>\n",
       "      <th>75%</th>\n",
       "      <td>0.43890</td>\n",
       "      <td>1.000000</td>\n",
       "    </tr>\n",
       "    <tr>\n",
       "      <th>max</th>\n",
       "      <td>0.98130</td>\n",
       "      <td>1.000000</td>\n",
       "    </tr>\n",
       "  </tbody>\n",
       "</table>\n",
       "</div>"
      ],
      "text/plain": [
       "       score_sentimientos  categorizacion\n",
       "count          7787.00000     7787.000000\n",
       "mean              0.12505        0.416463\n",
       "std               0.39851        0.493004\n",
       "min              -0.98210        0.000000\n",
       "25%               0.00000        0.000000\n",
       "50%               0.00000        0.000000\n",
       "75%               0.43890        1.000000\n",
       "max               0.98130        1.000000"
      ]
     },
     "execution_count": 46,
     "metadata": {},
     "output_type": "execute_result"
    }
   ],
   "source": [
    "#Métricas de los valores cuantitativos del dataset.\n",
    "data2.describe()"
   ]
  },
  {
   "attachments": {},
   "cell_type": "markdown",
   "metadata": {},
   "source": [
    "2. Instalamos e importamos las librerías que necesitaremos para observar las distribuciones estadísticas."
   ]
  },
  {
   "cell_type": "code",
   "execution_count": null,
   "metadata": {},
   "outputs": [],
   "source": [
    "#Instalar seaborn\n",
    "#pip install seaborn\n",
    "#Importar seaborn\n",
    "import seaborn as sns"
   ]
  },
  {
   "cell_type": "code",
   "execution_count": 49,
   "metadata": {},
   "outputs": [],
   "source": [
    "#Instalar matplotlib\n",
    "# pip install matplotlib\n",
    "#Importar pyplot de matplotlib\n",
    "import matplotlib.pyplot as plt"
   ]
  },
  {
   "attachments": {},
   "cell_type": "markdown",
   "metadata": {},
   "source": [
    "3. Se utiliza pairplot de seaborn para observar la correlación en forma de distribución normal entre los datos cuantitativos."
   ]
  },
  {
   "cell_type": "code",
   "execution_count": 48,
   "metadata": {},
   "outputs": [
    {
     "name": "stderr",
     "output_type": "stream",
     "text": [
      "C:\\Users\\MI PC\\AppData\\Local\\Packages\\PythonSoftwareFoundation.Python.3.10_qbz5n2kfra8p0\\LocalCache\\local-packages\\Python310\\site-packages\\seaborn\\axisgrid.py:2095: UserWarning: The `size` parameter has been renamed to `height`; please update your code.\n",
      "  warnings.warn(msg, UserWarning)\n"
     ]
    },
    {
     "data": {
      "text/plain": [
       "<seaborn.axisgrid.PairGrid at 0x28a5f75b6a0>"
      ]
     },
     "execution_count": 48,
     "metadata": {},
     "output_type": "execute_result"
    },
    {
     "data": {
      "image/png": "[encoded data removed]",
      "text/plain": [
       "<Figure size 400x400 with 6 Axes>"
      ]
     },
     "metadata": {},
     "output_type": "display_data"
    }
   ],
   "source": [
    "# Seleccionar las columnas deseadas en una lista\n",
    "columns = ['score_sentimientos','categorizacion']\n",
    "# Obtener el DataFrame con las columnas seleccionadas\n",
    "selected_df = data2[columns]\n",
    "\n",
    "# Calcular la matriz de correlación\n",
    "correlation_data = selected_df.corr()\n",
    "\n",
    "# Crear el pairplot\n",
    "sns.pairplot(correlation_data, diag_kind='kde', size=2)"
   ]
  },
  {
   "attachments": {},
   "cell_type": "markdown",
   "metadata": {},
   "source": [
    "4. Se utiliza heatmap de seaborn para observar la correlación en forma de mapa de calor con datos numéricos entre los datos cuantitativos."
   ]
  },
  {
   "cell_type": "code",
   "execution_count": 53,
   "metadata": {},
   "outputs": [
    {
     "data": {
      "image/png": "[encoded data removed]",
      "text/plain": [
       "<Figure size 500x500 with 2 Axes>"
      ]
     },
     "metadata": {},
     "output_type": "display_data"
    }
   ],
   "source": [
    "# Se crea una figura con tamaño 5x5\n",
    "plt.figure(figsize=(5,5))\n",
    "\n",
    "# Se genera el mapa de calor con las correlaciones\n",
    "sns.heatmap(selected_df.corr(), annot=True, square=True, cmap='coolwarm')\n",
    "\n",
    "# Se genera la visualización del mapa de calor\n",
    "plt.show()"
   ]
  },
  {
   "cell_type": "code",
   "execution_count": 59,
   "metadata": {},
   "outputs": [
    {
     "data": {
      "image/png": "[encoded data removed]",
      "text/plain": [
       "<Figure size 1000x1000 with 1 Axes>"
      ]
     },
     "metadata": {},
     "output_type": "display_data"
    }
   ],
   "source": [
    "# Se define el número de contenedores en los histogramas\n",
    "bins = 15\n",
    "\n",
    "# Se crea una figura con tamaño 10x10\n",
    "plt.figure(figsize=(10, 10))\n",
    "\n",
    "#Se crea un subgráfico para que se observen los histogramas\n",
    "plt.subplot(3, 2, 1)\n",
    "\n",
    "# Se utiliza hisplot de seaborn para graficar los histogramas por variable\n",
    "sns.histplot(data2[data2['categorizacion'] == 0]['score_sentimientos'], bins=bins, color='green', label='0', kde=True)\n",
    "\n",
    "# Se utiliza kdeplot de seaborn para trazar la distribución normal por variable\n",
    "sns.kdeplot(data2[data2['categorizacion'] == 0]['score_sentimientos'], color='darkgreen', linestyle='--')\n",
    "\n",
    "sns.histplot(data2[data2['categorizacion'] == 1]['score_sentimientos'], bins=bins, color='red', label='1', kde=True)\n",
    "sns.kdeplot(data2[data2['categorizacion'] == 1]['score_sentimientos'], color='darkred', linestyle='--')\n",
    "\n",
    "# Muestra la leyenda\n",
    "plt.legend(loc='upper right')\n",
    "\n",
    "# Ajusta los subgrpaficos y los espacios para un mejor diseño\n",
    "plt.tight_layout()\n",
    "\n",
    "# Muestra el gráfico generado\n",
    "plt.show()"
   ]
  },
  {
   "attachments": {},
   "cell_type": "markdown",
   "metadata": {},
   "source": [
    "## Modelo de regresión logística"
   ]
  },
  {
   "attachments": {},
   "cell_type": "markdown",
   "metadata": {},
   "source": [
    "1. Se definen la variables X e Y"
   ]
  },
  {
   "cell_type": "code",
   "execution_count": 60,
   "metadata": {},
   "outputs": [],
   "source": [
    "# X será la variable score_sentimientos del dataset\n",
    "X=data2.score_sentimientos"
   ]
  },
  {
   "cell_type": "code",
   "execution_count": 61,
   "metadata": {},
   "outputs": [],
   "source": [
    "# Y será la variable categorizacion que contiene:\n",
    "# 1= buen comentario -- 0= mal comentario\n",
    "y=data2.categorizacion"
   ]
  },
  {
   "attachments": {},
   "cell_type": "markdown",
   "metadata": {},
   "source": [
    "2. Se instala la librería skitlearn para utilizar las regresiones"
   ]
  },
  {
   "cell_type": "code",
   "execution_count": null,
   "metadata": {},
   "outputs": [],
   "source": [
    "# pip install scikit-learn"
   ]
  },
  {
   "attachments": {},
   "cell_type": "markdown",
   "metadata": {},
   "source": [
    "3. Se implementa la regresión logística desde sklearn"
   ]
  },
  {
   "cell_type": "code",
   "execution_count": 62,
   "metadata": {},
   "outputs": [],
   "source": [
    "## Implementamos la regresión logística\n",
    "from sklearn.model_selection import train_test_split"
   ]
  },
  {
   "attachments": {},
   "cell_type": "markdown",
   "metadata": {},
   "source": [
    "4. Se separan los datos en \"train\" datos entrenados y \"test\" datos de prueba"
   ]
  },
  {
   "cell_type": "code",
   "execution_count": 63,
   "metadata": {},
   "outputs": [],
   "source": [
    "# Se usará el 20% de estos datos para la prueba\n",
    "X_train,X_test,y_train,y_test=train_test_split(X,y,test_size=0.2)"
   ]
  },
  {
   "attachments": {},
   "cell_type": "markdown",
   "metadata": {},
   "source": [
    "5. Se escalan los datos para que todos tengan la misma medida o magnitud."
   ]
  },
  {
   "cell_type": "code",
   "execution_count": 66,
   "metadata": {},
   "outputs": [],
   "source": [
    "from sklearn.preprocessing import StandardScaler\n",
    "\n",
    "escalar = StandardScaler()\n",
    "X_train = X_train.values.reshape(-1, 1)\n",
    "X_test = X_test.values.reshape(-1, 1)\n",
    "X_train = escalar.fit_transform(X_train)\n",
    "X_test = escalar.transform(X_test)\n"
   ]
  },
  {
   "attachments": {},
   "cell_type": "markdown",
   "metadata": {},
   "source": [
    "6. Se define el algoritmo a usar, en este caso por los tipos de datos en clasificación, se usará la REGRESIÓ LOGÍSTICA"
   ]
  },
  {
   "cell_type": "code",
   "execution_count": 67,
   "metadata": {},
   "outputs": [],
   "source": [
    "from sklearn.linear_model import LogisticRegression"
   ]
  },
  {
   "cell_type": "code",
   "execution_count": 68,
   "metadata": {},
   "outputs": [],
   "source": [
    "algoritmo =LogisticRegression()"
   ]
  },
  {
   "cell_type": "code",
   "execution_count": 69,
   "metadata": {},
   "outputs": [
    {
     "data": {
      "text/html": [
       "<style>#sk-container-id-1 {color: black;background-color: white;}#sk-container-id-1 pre{padding: 0;}#sk-container-id-1 div.sk-toggleable {background-color: white;}#sk-container-id-1 label.sk-toggleable__label {cursor: pointer;display: block;width: 100%;margin-bottom: 0;padding: 0.3em;box-sizing: border-box;text-align: center;}#sk-container-id-1 label.sk-toggleable__label-arrow:before {content: \"▸\";float: left;margin-right: 0.25em;color: #696969;}#sk-container-id-1 label.sk-toggleable__label-arrow:hover:before {color: black;}#sk-container-id-1 div.sk-estimator:hover label.sk-toggleable__label-arrow:before {color: black;}#sk-container-id-1 div.sk-toggleable__content {max-height: 0;max-width: 0;overflow: hidden;text-align: left;background-color: #f0f8ff;}#sk-container-id-1 div.sk-toggleable__content pre {margin: 0.2em;color: black;border-radius: 0.25em;background-color: #f0f8ff;}#sk-container-id-1 input.sk-toggleable__control:checked~div.sk-toggleable__content {max-height: 200px;max-width: 100%;overflow: auto;}#sk-container-id-1 input.sk-toggleable__control:checked~label.sk-toggleable__label-arrow:before {content: \"▾\";}#sk-container-id-1 div.sk-estimator input.sk-toggleable__control:checked~label.sk-toggleable__label {background-color: #d4ebff;}#sk-container-id-1 div.sk-label input.sk-toggleable__control:checked~label.sk-toggleable__label {background-color: #d4ebff;}#sk-container-id-1 input.sk-hidden--visually {border: 0;clip: rect(1px 1px 1px 1px);clip: rect(1px, 1px, 1px, 1px);height: 1px;margin: -1px;overflow: hidden;padding: 0;position: absolute;width: 1px;}#sk-container-id-1 div.sk-estimator {font-family: monospace;background-color: #f0f8ff;border: 1px dotted black;border-radius: 0.25em;box-sizing: border-box;margin-bottom: 0.5em;}#sk-container-id-1 div.sk-estimator:hover {background-color: #d4ebff;}#sk-container-id-1 div.sk-parallel-item::after {content: \"\";width: 100%;border-bottom: 1px solid gray;flex-grow: 1;}#sk-container-id-1 div.sk-label:hover label.sk-toggleable__label {background-color: #d4ebff;}#sk-container-id-1 div.sk-serial::before {content: \"\";position: absolute;border-left: 1px solid gray;box-sizing: border-box;top: 0;bottom: 0;left: 50%;z-index: 0;}#sk-container-id-1 div.sk-serial {display: flex;flex-direction: column;align-items: center;background-color: white;padding-right: 0.2em;padding-left: 0.2em;position: relative;}#sk-container-id-1 div.sk-item {position: relative;z-index: 1;}#sk-container-id-1 div.sk-parallel {display: flex;align-items: stretch;justify-content: center;background-color: white;position: relative;}#sk-container-id-1 div.sk-item::before, #sk-container-id-1 div.sk-parallel-item::before {content: \"\";position: absolute;border-left: 1px solid gray;box-sizing: border-box;top: 0;bottom: 0;left: 50%;z-index: -1;}#sk-container-id-1 div.sk-parallel-item {display: flex;flex-direction: column;z-index: 1;position: relative;background-color: white;}#sk-container-id-1 div.sk-parallel-item:first-child::after {align-self: flex-end;width: 50%;}#sk-container-id-1 div.sk-parallel-item:last-child::after {align-self: flex-start;width: 50%;}#sk-container-id-1 div.sk-parallel-item:only-child::after {width: 0;}#sk-container-id-1 div.sk-dashed-wrapped {border: 1px dashed gray;margin: 0 0.4em 0.5em 0.4em;box-sizing: border-box;padding-bottom: 0.4em;background-color: white;}#sk-container-id-1 div.sk-label label {font-family: monospace;font-weight: bold;display: inline-block;line-height: 1.2em;}#sk-container-id-1 div.sk-label-container {text-align: center;}#sk-container-id-1 div.sk-container {/* jupyter's `normalize.less` sets `[hidden] { display: none; }` but bootstrap.min.css set `[hidden] { display: none !important; }` so we also need the `!important` here to be able to override the default hidden behavior on the sphinx rendered scikit-learn.org. See: https://github.com/scikit-learn/scikit-learn/issues/21755 */display: inline-block !important;position: relative;}#sk-container-id-1 div.sk-text-repr-fallback {display: none;}</style><div id=\"sk-container-id-1\" class=\"sk-top-container\"><div class=\"sk-text-repr-fallback\"><pre>LogisticRegression()</pre><b>In a Jupyter environment, please rerun this cell to show the HTML representation or trust the notebook. <br />On GitHub, the HTML representation is unable to render, please try loading this page with nbviewer.org.</b></div><div class=\"sk-container\" hidden><div class=\"sk-item\"><div class=\"sk-estimator sk-toggleable\"><input class=\"sk-toggleable__control sk-hidden--visually\" id=\"sk-estimator-id-1\" type=\"checkbox\" checked><label for=\"sk-estimator-id-1\" class=\"sk-toggleable__label sk-toggleable__label-arrow\">LogisticRegression</label><div class=\"sk-toggleable__content\"><pre>LogisticRegression()</pre></div></div></div></div></div>"
      ],
      "text/plain": [
       "LogisticRegression()"
      ]
     },
     "execution_count": 69,
     "metadata": {},
     "output_type": "execute_result"
    }
   ],
   "source": [
    "# Entrenamos el modelo\n",
    "algoritmo.fit(X_train, y_train)"
   ]
  },
  {
   "attachments": {},
   "cell_type": "markdown",
   "metadata": {},
   "source": [
    "7. Realizamos una predicción de los datos a prueba (estos siempre son aleatorios por default)"
   ]
  },
  {
   "cell_type": "code",
   "execution_count": 70,
   "metadata": {},
   "outputs": [],
   "source": [
    "y_pred=algoritmo.predict(X_test)"
   ]
  },
  {
   "cell_type": "code",
   "execution_count": 71,
   "metadata": {},
   "outputs": [
    {
     "data": {
      "text/plain": [
       "array([0, 1, 1, ..., 0, 1, 1], dtype=int64)"
      ]
     },
     "execution_count": 71,
     "metadata": {},
     "output_type": "execute_result"
    }
   ],
   "source": [
    "# Se muestran los datos predichos\n",
    "y_pred"
   ]
  },
  {
   "cell_type": "code",
   "execution_count": 72,
   "metadata": {},
   "outputs": [
    {
     "data": {
      "text/plain": [
       "7498    0\n",
       "5195    1\n",
       "834     1\n",
       "2264    1\n",
       "3247    0\n",
       "       ..\n",
       "6010    0\n",
       "9779    0\n",
       "1789    0\n",
       "7371    1\n",
       "9768    1\n",
       "Name: categorizacion, Length: 1558, dtype: int64"
      ]
     },
     "execution_count": 72,
     "metadata": {},
     "output_type": "execute_result"
    }
   ],
   "source": [
    "# Se muestran los datos reales\n",
    "y_test"
   ]
  },
  {
   "attachments": {},
   "cell_type": "markdown",
   "metadata": {},
   "source": [
    "8. Se utiliziará la Matriz de confusión para evaluar y analizar el rendimiento de un modelo de clasificación al mostrar la concordancia entre las etiquetas de clase reales y las etiquetas de clase predichas."
   ]
  },
  {
   "cell_type": "code",
   "execution_count": 73,
   "metadata": {},
   "outputs": [],
   "source": [
    "# Se importa la matriz confusión de sklearn\n",
    "from sklearn.metrics import confusion_matrix"
   ]
  },
  {
   "cell_type": "code",
   "execution_count": 74,
   "metadata": {},
   "outputs": [
    {
     "name": "stdout",
     "output_type": "stream",
     "text": [
      "Matriz de confusión: [[930   0]\n",
      " [ 24 604]]\n"
     ]
    }
   ],
   "source": [
    "matriz=confusion_matrix(y_test,y_pred)\n",
    "print('Matriz de confusión:', matriz) # Solo se evalúa un 20% de los datos\n",
    "# 930 datos verdaderos positivos (datos reales 1 y el modelo dio 1)\n",
    "# 604 datos verdaderos negativos (Datos reales 0 y el modelo dio 0)\n",
    "# 0 datos que cambiaron de 1 a 0\n",
    "# 24 datos que cambiaron de 0 a 1\n",
    "# El modelo no predijo 24 datos"
   ]
  },
  {
   "attachments": {},
   "cell_type": "markdown",
   "metadata": {},
   "source": [
    "9. Se utiliza SVC de sklearn para saber las probabilidades de las clasificaciones de los datos según el modelo aplicado"
   ]
  },
  {
   "cell_type": "code",
   "execution_count": 75,
   "metadata": {},
   "outputs": [],
   "source": [
    "from sklearn.svm import SVC"
   ]
  },
  {
   "cell_type": "code",
   "execution_count": 79,
   "metadata": {},
   "outputs": [
    {
     "name": "stdout",
     "output_type": "stream",
     "text": [
      "[[0.99757 0.00243]\n",
      " [0.      1.     ]\n",
      " [0.      1.     ]\n",
      " ...\n",
      " [1.      0.     ]\n",
      " [0.      1.     ]\n",
      " [0.      1.     ]]\n"
     ]
    }
   ],
   "source": [
    "# Crear un estimador SVC\n",
    "algoritmo2= SVC(probability=True)\n",
    "\n",
    "# Ajustar el estimador a los datos de entrenamiento\n",
    "algoritmo2.fit(X_train, y_train)\n",
    "\n",
    "# Obtener las probabilidades de predicción para los datos de prueba\n",
    "probas = algoritmo2.predict_proba(X_test)\n",
    "\n",
    "print((np.round(probas,decimals=5)))"
   ]
  },
  {
   "attachments": {},
   "cell_type": "markdown",
   "metadata": {},
   "source": [
    "10. Se usa GaussianNaiveBayes para que ausma una distribución normal para conocer la precisión de la predicción de las variables entrenadas y de prueba"
   ]
  },
  {
   "cell_type": "code",
   "execution_count": 80,
   "metadata": {},
   "outputs": [
    {
     "name": "stdout",
     "output_type": "stream",
     "text": [
      "Análisis de predicción de sentimientos de Bitcoin en Twitter\n",
      "Precisión del clasificador GaussianNB en el conjunto de entrenamiento: 0.94\n",
      "Precisión del clasificador GaussianNB en el conjunto de prueba: 0.94\n"
     ]
    }
   ],
   "source": [
    "from sklearn.naive_bayes import GaussianNB\n",
    "\n",
    "nbclf = GaussianNB().fit(X_train, y_train)\n",
    "predicted = nbclf.predict(X_test)\n",
    "print('Análisis de predicción de sentimientos de Bitcoin en Twitter')\n",
    "print('Precisión del clasificador GaussianNB en el conjunto de entrenamiento: {:.2f}'.format(nbclf.score(X_train, y_train)))\n",
    "print('Precisión del clasificador GaussianNB en el conjunto de prueba: {:.2f}'.format(nbclf.score(X_test, y_test)))"
   ]
  },
  {
   "attachments": {},
   "cell_type": "markdown",
   "metadata": {},
   "source": [
    "11. Se usa Metrics para evaluar y comparar el desempeño del modelo, en este caso, utilizaremos las del tipo clasificación por los tipos de datos"
   ]
  },
  {
   "cell_type": "code",
   "execution_count": 82,
   "metadata": {},
   "outputs": [
    {
     "name": "stdout",
     "output_type": "stream",
     "text": [
      "Informe de clasificación para clasificador GaussianNB():\n",
      "              precision    recall  f1-score   support\n",
      "\n",
      "           0       0.90      1.00      0.95       930\n",
      "           1       1.00      0.84      0.91       628\n",
      "\n",
      "    accuracy                           0.94      1558\n",
      "   macro avg       0.95      0.92      0.93      1558\n",
      "weighted avg       0.94      0.94      0.93      1558\n",
      "\n",
      "\n"
     ]
    }
   ],
   "source": [
    "from sklearn import metrics\n",
    "\n",
    "print(\"Informe de clasificación para clasificador %s:\\n%s\\n\"\n",
    "      % (nbclf, metrics.classification_report(y_test, predicted)))"
   ]
  },
  {
   "attachments": {},
   "cell_type": "markdown",
   "metadata": {},
   "source": [
    "-PRECISIÓN: Relación entre las predicciones correctas previstas (0:mal comentario tiene una precisión de predicción de 0.9, un valor alto)\n",
    "-SENSIBILIDAD: Relación entre las predicciones positivas correctas y el número total de predicciones positivas, cuán sensible es el clasificador para detectar instancias positivas (1:buen comentario tiene una sensibilidad del 0.84, un valor alto)\n",
    "-PUNTUACIÓN F-1: Es la medida armónica de la memoria y precisión, toma en cuenta los falsos positivos y negativos\n",
    "-APOYO: Son los datos que fueron predichos como realmente estaban en el modelo (0: mal comentario, 930 datos que eran 0 desde el inicio, fueron predichos con 0, su mismo valor en el modelo implementado)\n",
    "-EXACTITUD: Se utiliza para evaluar el rendimiento de un modelo de clasificación y representa la proporción de predicciones correctas realizadas.\n",
    "-PROMEDIO MACRO: Calcula el promedio de las métricas para cada clase.\n",
    "-PESO PROMEDIO: Calcula el promedio de las métricas en todas las clases."
   ]
  },
  {
   "attachments": {},
   "cell_type": "markdown",
   "metadata": {},
   "source": [
    "## Conclusión"
   ]
  },
  {
   "attachments": {},
   "cell_type": "markdown",
   "metadata": {},
   "source": [
    "El modelo tiene una precisión de 0.94, por lo que su precisión es casi perfecta en este tipo de datasets de clasificación"
   ]
  }
 ],
 "metadata": {
  "kernelspec": {
   "display_name": "Python 3",
   "language": "python",
   "name": "python3"
  },
  "language_info": {
   "codemirror_mode": {
    "name": "ipython",
    "version": 3
   },
   "file_extension": ".py",
   "mimetype": "text/x-python",
   "name": "python",
   "nbconvert_exporter": "python",
   "pygments_lexer": "ipython3",
   "version": "3.10.11"
  },
  "orig_nbformat": 4
 },
 "nbformat": 4,
 "nbformat_minor": 2
}
